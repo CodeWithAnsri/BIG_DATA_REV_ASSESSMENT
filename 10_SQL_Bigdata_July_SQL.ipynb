{
 "cells": [
  {
   "cell_type": "code",
   "execution_count": 2,
   "metadata": {},
   "outputs": [
    {
     "data": {
      "text/plain": [
       "['Collecting ipython-sql',\n",
       " '  Downloading ipython_sql-0.5.0-py3-none-any.whl (20 kB)',\n",
       " 'Collecting prettytable',\n",
       " '  Downloading prettytable-3.8.0-py3-none-any.whl (27 kB)',\n",
       " 'Requirement already satisfied: six in c:\\\\users\\\\md\\\\appdata\\\\local\\\\packages\\\\pythonsoftwarefoundation.python.3.10_qbz5n2kfra8p0\\\\localcache\\\\local-packages\\\\python310\\\\site-packages (from ipython-sql) (1.16.0)',\n",
       " 'Collecting sqlalchemy>=2.0',\n",
       " '  Downloading SQLAlchemy-2.0.18-cp310-cp310-win_amd64.whl (2.0 MB)',\n",
       " '     ---------------------------------------- 0.0/2.0 MB ? eta -:--:--',\n",
       " '     - -------------------------------------- 0.1/2.0 MB 1.1 MB/s eta 0:00:02',\n",
       " '     - -------------------------------------- 0.1/2.0 MB 1.1 MB/s eta 0:00:02',\n",
       " '     --- ------------------------------------ 0.2/2.0 MB 1.0 MB/s eta 0:00:02',\n",
       " '     ---- ----------------------------------- 0.2/2.0 MB 1.2 MB/s eta 0:00:02',\n",
       " '     ------- -------------------------------- 0.4/2.0 MB 1.6 MB/s eta 0:00:01',\n",
       " '     -------- ------------------------------- 0.4/2.0 MB 1.7 MB/s eta 0:00:01',\n",
       " '     -------- ------------------------------- 0.4/2.0 MB 1.7 MB/s eta 0:00:01',\n",
       " '     --------- ------------------------------ 0.5/2.0 MB 1.3 MB/s eta 0:00:02',\n",
       " '     --------------- ------------------------ 0.8/2.0 MB 1.8 MB/s eta 0:00:01',\n",
       " '     --------------------- ------------------ 1.1/2.0 MB 2.4 MB/s eta 0:00:01',\n",
       " '     -------------------------- ------------- 1.3/2.0 MB 2.6 MB/s eta 0:00:01',\n",
       " '     -------------------------- ------------- 1.3/2.0 MB 2.6 MB/s eta 0:00:01',\n",
       " '     -------------------------- ------------- 1.3/2.0 MB 2.3 MB/s eta 0:00:01',\n",
       " '     ----------------------------- ---------- 1.5/2.0 MB 2.3 MB/s eta 0:00:01',\n",
       " '     ------------------------------- -------- 1.6/2.0 MB 2.3 MB/s eta 0:00:01',\n",
       " '     --------------------------------- ------ 1.6/2.0 MB 2.2 MB/s eta 0:00:01',\n",
       " '     ----------------------------------- ---- 1.8/2.0 MB 2.3 MB/s eta 0:00:01',\n",
       " '     ----------------------------------- ---- 1.8/2.0 MB 2.3 MB/s eta 0:00:01',\n",
       " '     ------------------------------------ --- 1.8/2.0 MB 2.1 MB/s eta 0:00:01',\n",
       " '     ---------------------------------------  2.0/2.0 MB 2.1 MB/s eta 0:00:01',\n",
       " '     ---------------------------------------- 2.0/2.0 MB 2.0 MB/s eta 0:00:00',\n",
       " 'Collecting sqlparse',\n",
       " '  Downloading sqlparse-0.4.4-py3-none-any.whl (41 kB)',\n",
       " '     ---------------------------------------- 0.0/41.2 kB ? eta -:--:--',\n",
       " '     ---------------------------------------- 41.2/41.2 kB 1.9 MB/s eta 0:00:00',\n",
       " 'Collecting ipython-genutils',\n",
       " '  Downloading ipython_genutils-0.2.0-py2.py3-none-any.whl (26 kB)',\n",
       " 'Requirement already satisfied: ipython in c:\\\\users\\\\md\\\\appdata\\\\local\\\\packages\\\\pythonsoftwarefoundation.python.3.10_qbz5n2kfra8p0\\\\localcache\\\\local-packages\\\\python310\\\\site-packages (from ipython-sql) (8.8.0)',\n",
       " 'Collecting greenlet!=0.4.17',\n",
       " '  Downloading greenlet-2.0.2-cp310-cp310-win_amd64.whl (192 kB)',\n",
       " '     ---------------------------------------- 0.0/192.2 kB ? eta -:--:--',\n",
       " '     ---------------------------- --------- 143.4/192.2 kB 2.8 MB/s eta 0:00:01',\n",
       " '     ------------------------------------ - 184.3/192.2 kB 2.2 MB/s eta 0:00:01',\n",
       " '     -------------------------------------- 192.2/192.2 kB 1.7 MB/s eta 0:00:00',\n",
       " 'Collecting typing-extensions>=4.2.0',\n",
       " '  Downloading typing_extensions-4.7.1-py3-none-any.whl (33 kB)',\n",
       " 'Requirement already satisfied: colorama in c:\\\\users\\\\md\\\\appdata\\\\local\\\\packages\\\\pythonsoftwarefoundation.python.3.10_qbz5n2kfra8p0\\\\localcache\\\\local-packages\\\\python310\\\\site-packages (from ipython->ipython-sql) (0.4.6)',\n",
       " 'Requirement already satisfied: pickleshare in c:\\\\users\\\\md\\\\appdata\\\\local\\\\packages\\\\pythonsoftwarefoundation.python.3.10_qbz5n2kfra8p0\\\\localcache\\\\local-packages\\\\python310\\\\site-packages (from ipython->ipython-sql) (0.7.5)',\n",
       " 'Requirement already satisfied: prompt-toolkit<3.1.0,>=3.0.11 in c:\\\\users\\\\md\\\\appdata\\\\local\\\\packages\\\\pythonsoftwarefoundation.python.3.10_qbz5n2kfra8p0\\\\localcache\\\\local-packages\\\\python310\\\\site-packages (from ipython->ipython-sql) (3.0.36)',\n",
       " 'Requirement already satisfied: stack-data in c:\\\\users\\\\md\\\\appdata\\\\local\\\\packages\\\\pythonsoftwarefoundation.python.3.10_qbz5n2kfra8p0\\\\localcache\\\\local-packages\\\\python310\\\\site-packages (from ipython->ipython-sql) (0.6.2)',\n",
       " 'Requirement already satisfied: jedi>=0.16 in c:\\\\users\\\\md\\\\appdata\\\\local\\\\packages\\\\pythonsoftwarefoundation.python.3.10_qbz5n2kfra8p0\\\\localcache\\\\local-packages\\\\python310\\\\site-packages (from ipython->ipython-sql) (0.18.2)',\n",
       " 'Requirement already satisfied: decorator in c:\\\\users\\\\md\\\\appdata\\\\local\\\\packages\\\\pythonsoftwarefoundation.python.3.10_qbz5n2kfra8p0\\\\localcache\\\\local-packages\\\\python310\\\\site-packages (from ipython->ipython-sql) (5.1.1)',\n",
       " 'Requirement already satisfied: traitlets>=5 in c:\\\\users\\\\md\\\\appdata\\\\local\\\\packages\\\\pythonsoftwarefoundation.python.3.10_qbz5n2kfra8p0\\\\localcache\\\\local-packages\\\\python310\\\\site-packages (from ipython->ipython-sql) (5.8.1)',\n",
       " 'Requirement already satisfied: backcall in c:\\\\users\\\\md\\\\appdata\\\\local\\\\packages\\\\pythonsoftwarefoundation.python.3.10_qbz5n2kfra8p0\\\\localcache\\\\local-packages\\\\python310\\\\site-packages (from ipython->ipython-sql) (0.2.0)',\n",
       " 'Requirement already satisfied: matplotlib-inline in c:\\\\users\\\\md\\\\appdata\\\\local\\\\packages\\\\pythonsoftwarefoundation.python.3.10_qbz5n2kfra8p0\\\\localcache\\\\local-packages\\\\python310\\\\site-packages (from ipython->ipython-sql) (0.1.6)',\n",
       " 'Requirement already satisfied: pygments>=2.4.0 in c:\\\\users\\\\md\\\\appdata\\\\local\\\\packages\\\\pythonsoftwarefoundation.python.3.10_qbz5n2kfra8p0\\\\localcache\\\\local-packages\\\\python310\\\\site-packages (from ipython->ipython-sql) (2.14.0)',\n",
       " 'Requirement already satisfied: wcwidth in c:\\\\users\\\\md\\\\appdata\\\\local\\\\packages\\\\pythonsoftwarefoundation.python.3.10_qbz5n2kfra8p0\\\\localcache\\\\local-packages\\\\python310\\\\site-packages (from prettytable->ipython-sql) (0.2.6)',\n",
       " 'Requirement already satisfied: parso<0.9.0,>=0.8.0 in c:\\\\users\\\\md\\\\appdata\\\\local\\\\packages\\\\pythonsoftwarefoundation.python.3.10_qbz5n2kfra8p0\\\\localcache\\\\local-packages\\\\python310\\\\site-packages (from jedi>=0.16->ipython->ipython-sql) (0.8.3)',\n",
       " 'Requirement already satisfied: executing>=1.2.0 in c:\\\\users\\\\md\\\\appdata\\\\local\\\\packages\\\\pythonsoftwarefoundation.python.3.10_qbz5n2kfra8p0\\\\localcache\\\\local-packages\\\\python310\\\\site-packages (from stack-data->ipython->ipython-sql) (1.2.0)',\n",
       " 'Requirement already satisfied: asttokens>=2.1.0 in c:\\\\users\\\\md\\\\appdata\\\\local\\\\packages\\\\pythonsoftwarefoundation.python.3.10_qbz5n2kfra8p0\\\\localcache\\\\local-packages\\\\python310\\\\site-packages (from stack-data->ipython->ipython-sql) (2.2.1)',\n",
       " 'Requirement already satisfied: pure-eval in c:\\\\users\\\\md\\\\appdata\\\\local\\\\packages\\\\pythonsoftwarefoundation.python.3.10_qbz5n2kfra8p0\\\\localcache\\\\local-packages\\\\python310\\\\site-packages (from stack-data->ipython->ipython-sql) (0.2.2)',\n",
       " 'Installing collected packages: ipython-genutils, typing-extensions, sqlparse, prettytable, greenlet, sqlalchemy, ipython-sql',\n",
       " 'Successfully installed greenlet-2.0.2 ipython-genutils-0.2.0 ipython-sql-0.5.0 prettytable-3.8.0 sqlalchemy-2.0.18 sqlparse-0.4.4 typing-extensions-4.7.1',\n",
       " '',\n",
       " '[notice] A new release of pip is available: 23.0.1 -> 23.1.2',\n",
       " '[notice] To update, run: C:\\\\Users\\\\MD\\\\AppData\\\\Local\\\\Microsoft\\\\WindowsApps\\\\PythonSoftwareFoundation.Python.3.10_qbz5n2kfra8p0\\\\python.exe -m pip install --upgrade pip']"
      ]
     },
     "execution_count": 2,
     "metadata": {},
     "output_type": "execute_result"
    }
   ],
   "source": [
    "\n",
    "%%!\n",
    "pip install --trusted-host pypi.org ipython-sql\n",
    "\n"
   ]
  },
  {
   "cell_type": "code",
   "execution_count": 3,
   "metadata": {},
   "outputs": [],
   "source": [
    "%load_ext sql\n",
    "\n"
   ]
  },
  {
   "cell_type": "code",
   "execution_count": 4,
   "metadata": {},
   "outputs": [],
   "source": [
    "\n",
    "\n",
    "%sql sqlite://\n",
    "\n"
   ]
  },
  {
   "cell_type": "code",
   "execution_count": 15,
   "metadata": {},
   "outputs": [
    {
     "name": "stdout",
     "output_type": "stream",
     "text": [
      " * sqlite://\n",
      "Done.\n",
      "(sqlite3.OperationalError) incomplete input\n",
      "[SQL: INSERT INTO Employees3 (id, name, email) VALUES\n",
      "(1, 'Rajesh Kumar', 'rajesh.kumar@example.com'),\n",
      "(2, 'Sneha Sharma', 'sneha.sharma@example.com'),\n",
      "(3, 'Amit Patel', 'amit.patel@example.com'),\n",
      "(4, 'Pooja Gupta', 'pooja.gupta@example.com'),\n",
      "(5, 'Rahul Verma', 'rahul.verma@example.com'),]\n",
      "(Background on this error at: https://sqlalche.me/e/20/e3q8)\n"
     ]
    }
   ],
   "source": [
    "%%sql\n",
    "\n",
    "CREATE TABLE Employees3 (\n",
    "  id INT PRIMARY KEY,\n",
    "  name VARCHAR(50),\n",
    "  email VARCHAR(100)\n",
    ");\n",
    "\n",
    "\n",
    "\n",
    "\n",
    "\n",
    "\n",
    "\n",
    "\n"
   ]
  },
  {
   "cell_type": "code",
   "execution_count": 18,
   "metadata": {},
   "outputs": [
    {
     "name": "stdout",
     "output_type": "stream",
     "text": [
      " * sqlite://\n",
      "5 rows affected.\n"
     ]
    },
    {
     "data": {
      "text/plain": [
       "[]"
      ]
     },
     "execution_count": 18,
     "metadata": {},
     "output_type": "execute_result"
    }
   ],
   "source": [
    "%%sql\n",
    "INSERT INTO Employees3 (id, name, email) VALUES\n",
    "(1, 'Rajesh Kumar', 'rajesh.kumar@example.com'),\n",
    "(2, 'Sneha Sharma', 'sneha.sharma@example.com'),\n",
    "(3, 'Amit Patel', 'amit.patel@example.com'),\n",
    "(4, 'Pooja Gupta', 'pooja.gupta@example.com'),\n",
    "(5, 'Rahul Verma', 'rahul.verma@example.com')\n",
    ";"
   ]
  },
  {
   "cell_type": "code",
   "execution_count": 19,
   "metadata": {},
   "outputs": [
    {
     "name": "stdout",
     "output_type": "stream",
     "text": [
      " * sqlite://\n",
      "Done.\n"
     ]
    },
    {
     "data": {
      "text/html": [
       "<table>\n",
       "    <thead>\n",
       "        <tr>\n",
       "            <th>id</th>\n",
       "            <th>name</th>\n",
       "            <th>email</th>\n",
       "        </tr>\n",
       "    </thead>\n",
       "    <tbody>\n",
       "        <tr>\n",
       "            <td>1</td>\n",
       "            <td>Rajesh Kumar</td>\n",
       "            <td>rajesh.kumar@example.com</td>\n",
       "        </tr>\n",
       "        <tr>\n",
       "            <td>2</td>\n",
       "            <td>Sneha Sharma</td>\n",
       "            <td>sneha.sharma@example.com</td>\n",
       "        </tr>\n",
       "        <tr>\n",
       "            <td>3</td>\n",
       "            <td>Amit Patel</td>\n",
       "            <td>amit.patel@example.com</td>\n",
       "        </tr>\n",
       "        <tr>\n",
       "            <td>4</td>\n",
       "            <td>Pooja Gupta</td>\n",
       "            <td>pooja.gupta@example.com</td>\n",
       "        </tr>\n",
       "        <tr>\n",
       "            <td>5</td>\n",
       "            <td>Rahul Verma</td>\n",
       "            <td>rahul.verma@example.com</td>\n",
       "        </tr>\n",
       "    </tbody>\n",
       "</table>"
      ],
      "text/plain": [
       "[(1, 'Rajesh Kumar', 'rajesh.kumar@example.com'),\n",
       " (2, 'Sneha Sharma', 'sneha.sharma@example.com'),\n",
       " (3, 'Amit Patel', 'amit.patel@example.com'),\n",
       " (4, 'Pooja Gupta', 'pooja.gupta@example.com'),\n",
       " (5, 'Rahul Verma', 'rahul.verma@example.com')]"
      ]
     },
     "execution_count": 19,
     "metadata": {},
     "output_type": "execute_result"
    }
   ],
   "source": [
    "%%sql\n",
    "SELECT * FROM employees3"
   ]
  },
  {
   "cell_type": "code",
   "execution_count": 20,
   "metadata": {},
   "outputs": [
    {
     "name": "stdout",
     "output_type": "stream",
     "text": [
      " * sqlite://\n",
      "Done.\n"
     ]
    },
    {
     "data": {
      "text/html": [
       "<table>\n",
       "    <thead>\n",
       "        <tr>\n",
       "            <th>name</th>\n",
       "            <th>email</th>\n",
       "        </tr>\n",
       "    </thead>\n",
       "    <tbody>\n",
       "        <tr>\n",
       "            <td>Rajesh Kumar</td>\n",
       "            <td>rajesh.kumar@example.com</td>\n",
       "        </tr>\n",
       "        <tr>\n",
       "            <td>Sneha Sharma</td>\n",
       "            <td>sneha.sharma@example.com</td>\n",
       "        </tr>\n",
       "        <tr>\n",
       "            <td>Amit Patel</td>\n",
       "            <td>amit.patel@example.com</td>\n",
       "        </tr>\n",
       "        <tr>\n",
       "            <td>Pooja Gupta</td>\n",
       "            <td>pooja.gupta@example.com</td>\n",
       "        </tr>\n",
       "        <tr>\n",
       "            <td>Rahul Verma</td>\n",
       "            <td>rahul.verma@example.com</td>\n",
       "        </tr>\n",
       "    </tbody>\n",
       "</table>"
      ],
      "text/plain": [
       "[('Rajesh Kumar', 'rajesh.kumar@example.com'),\n",
       " ('Sneha Sharma', 'sneha.sharma@example.com'),\n",
       " ('Amit Patel', 'amit.patel@example.com'),\n",
       " ('Pooja Gupta', 'pooja.gupta@example.com'),\n",
       " ('Rahul Verma', 'rahul.verma@example.com')]"
      ]
     },
     "execution_count": 20,
     "metadata": {},
     "output_type": "execute_result"
    }
   ],
   "source": [
    "%%sql\n",
    "select name , email from employees3;"
   ]
  },
  {
   "cell_type": "code",
   "execution_count": 21,
   "metadata": {},
   "outputs": [
    {
     "name": "stdout",
     "output_type": "stream",
     "text": [
      " * sqlite://\n",
      "Done.\n",
      "5 rows affected.\n",
      "Done.\n"
     ]
    },
    {
     "data": {
      "text/html": [
       "<table>\n",
       "    <thead>\n",
       "        <tr>\n",
       "            <th>id</th>\n",
       "            <th>name</th>\n",
       "            <th>city</th>\n",
       "            <th>email</th>\n",
       "        </tr>\n",
       "    </thead>\n",
       "    <tbody>\n",
       "        <tr>\n",
       "            <td>1</td>\n",
       "            <td>John Doe</td>\n",
       "            <td>New York</td>\n",
       "            <td>john.doe@example.com</td>\n",
       "        </tr>\n",
       "        <tr>\n",
       "            <td>3</td>\n",
       "            <td>Robert Johnson</td>\n",
       "            <td>New York</td>\n",
       "            <td>robert.johnson@example.com</td>\n",
       "        </tr>\n",
       "        <tr>\n",
       "            <td>5</td>\n",
       "            <td>Michael Wilson</td>\n",
       "            <td>New York</td>\n",
       "            <td>michael.wilson@example.com</td>\n",
       "        </tr>\n",
       "    </tbody>\n",
       "</table>"
      ],
      "text/plain": [
       "[(1, 'John Doe', 'New York', 'john.doe@example.com'),\n",
       " (3, 'Robert Johnson', 'New York', 'robert.johnson@example.com'),\n",
       " (5, 'Michael Wilson', 'New York', 'michael.wilson@example.com')]"
      ]
     },
     "execution_count": 21,
     "metadata": {},
     "output_type": "execute_result"
    }
   ],
   "source": [
    "%%sql\n",
    "\n",
    "CREATE TABLE Customers (\n",
    "  id INT PRIMARY KEY,\n",
    "  name VARCHAR(50),\n",
    "  city VARCHAR(50),\n",
    "  email VARCHAR(100)\n",
    ");\n",
    "\n",
    "\n",
    "INSERT INTO Customers (id, name, city, email) VALUES\n",
    "(1, 'John Doe', 'New York', 'john.doe@example.com'),\n",
    "(2, 'Jane Smith', 'Los Angeles', 'jane.smith@example.com'),\n",
    "(3, 'Robert Johnson', 'New York', 'robert.johnson@example.com'),\n",
    "(4, 'Emily Davis', 'Chicago', 'emily.davis@example.com'),\n",
    "(5, 'Michael Wilson', 'New York', 'michael.wilson@example.com');\n",
    "\n",
    "\n",
    "SELECT * FROM Customers WHERE city = 'New York';\n"
   ]
  },
  {
   "cell_type": "code",
   "execution_count": 22,
   "metadata": {},
   "outputs": [
    {
     "name": "stdout",
     "output_type": "stream",
     "text": [
      " * sqlite://\n",
      "Done.\n",
      "5 rows affected.\n",
      "Done.\n"
     ]
    },
    {
     "data": {
      "text/html": [
       "<table>\n",
       "    <thead>\n",
       "        <tr>\n",
       "            <th>id</th>\n",
       "            <th>name</th>\n",
       "            <th>date_of_birth</th>\n",
       "        </tr>\n",
       "    </thead>\n",
       "    <tbody>\n",
       "        <tr>\n",
       "            <td>4</td>\n",
       "            <td>Emily Davis</td>\n",
       "            <td>1993-07-03</td>\n",
       "        </tr>\n",
       "        <tr>\n",
       "            <td>1</td>\n",
       "            <td>John Doe</td>\n",
       "            <td>1990-05-15</td>\n",
       "        </tr>\n",
       "        <tr>\n",
       "            <td>2</td>\n",
       "            <td>Jane Smith</td>\n",
       "            <td>1985-09-10</td>\n",
       "        </tr>\n",
       "        <tr>\n",
       "            <td>5</td>\n",
       "            <td>Michael Wilson</td>\n",
       "            <td>1982-11-18</td>\n",
       "        </tr>\n",
       "        <tr>\n",
       "            <td>3</td>\n",
       "            <td>Robert Johnson</td>\n",
       "            <td>1978-12-25</td>\n",
       "        </tr>\n",
       "    </tbody>\n",
       "</table>"
      ],
      "text/plain": [
       "[(4, 'Emily Davis', '1993-07-03'),\n",
       " (1, 'John Doe', '1990-05-15'),\n",
       " (2, 'Jane Smith', '1985-09-10'),\n",
       " (5, 'Michael Wilson', '1982-11-18'),\n",
       " (3, 'Robert Johnson', '1978-12-25')]"
      ]
     },
     "execution_count": 22,
     "metadata": {},
     "output_type": "execute_result"
    }
   ],
   "source": [
    "%%sql\n",
    "CREATE TABLE Users (\n",
    "  id INT PRIMARY KEY,\n",
    "  name VARCHAR(50),\n",
    "  date_of_birth DATE\n",
    ");\n",
    "\n",
    "\n",
    "INSERT INTO Users (id, name, date_of_birth) VALUES\n",
    "(1, 'John Doe', '1990-05-15'),\n",
    "(2, 'Jane Smith', '1985-09-10'),\n",
    "(3, 'Robert Johnson', '1978-12-25'),\n",
    "(4, 'Emily Davis', '1993-07-03'),\n",
    "(5, 'Michael Wilson', '1982-11-18');\n",
    "\n",
    "\n",
    "SELECT * FROM Users ORDER BY date_of_birth DESC;\n"
   ]
  },
  {
   "cell_type": "code",
   "execution_count": 23,
   "metadata": {},
   "outputs": [
    {
     "name": "stdout",
     "output_type": "stream",
     "text": [
      " * sqlite://\n",
      "Done.\n",
      "5 rows affected.\n",
      "Done.\n"
     ]
    },
    {
     "data": {
      "text/html": [
       "<table>\n",
       "    <thead>\n",
       "        <tr>\n",
       "            <th>id</th>\n",
       "            <th>name</th>\n",
       "            <th>registration_date</th>\n",
       "        </tr>\n",
       "    </thead>\n",
       "    <tbody>\n",
       "        <tr>\n",
       "            <td>4</td>\n",
       "            <td>Emily Davis</td>\n",
       "            <td>2021-11-03</td>\n",
       "        </tr>\n",
       "        <tr>\n",
       "            <td>2</td>\n",
       "            <td>Jane Smith</td>\n",
       "            <td>2021-12-10</td>\n",
       "        </tr>\n",
       "        <tr>\n",
       "            <td>1</td>\n",
       "            <td>John Doe</td>\n",
       "            <td>2022-01-15</td>\n",
       "        </tr>\n",
       "        <tr>\n",
       "            <td>5</td>\n",
       "            <td>Michael Wilson</td>\n",
       "            <td>2022-02-18</td>\n",
       "        </tr>\n",
       "        <tr>\n",
       "            <td>3</td>\n",
       "            <td>Robert Johnson</td>\n",
       "            <td>2022-03-25</td>\n",
       "        </tr>\n",
       "    </tbody>\n",
       "</table>"
      ],
      "text/plain": [
       "[(4, 'Emily Davis', '2021-11-03'),\n",
       " (2, 'Jane Smith', '2021-12-10'),\n",
       " (1, 'John Doe', '2022-01-15'),\n",
       " (5, 'Michael Wilson', '2022-02-18'),\n",
       " (3, 'Robert Johnson', '2022-03-25')]"
      ]
     },
     "execution_count": 23,
     "metadata": {},
     "output_type": "execute_result"
    }
   ],
   "source": [
    "%%sql\n",
    "CREATE TABLE Users_1 (\n",
    "  id INT PRIMARY KEY,\n",
    "  name VARCHAR(50),\n",
    "  registration_date DATE\n",
    ");\n",
    "\n",
    "\n",
    "INSERT INTO Users_1 (id, name, registration_date) VALUES\n",
    "(1, 'John Doe', '2022-01-15'),\n",
    "(2, 'Jane Smith', '2021-12-10'),\n",
    "(3, 'Robert Johnson', '2022-03-25'),\n",
    "(4, 'Emily Davis', '2021-11-03'),\n",
    "(5, 'Michael Wilson', '2022-02-18');\n",
    "\n",
    "\n",
    "SELECT * FROM Users_1 ORDER BY registration_date ASC;\n"
   ]
  },
  {
   "cell_type": "code",
   "execution_count": 24,
   "metadata": {},
   "outputs": [
    {
     "name": "stdout",
     "output_type": "stream",
     "text": [
      " * sqlite://\n",
      "Done.\n",
      "5 rows affected.\n",
      "Done.\n"
     ]
    },
    {
     "data": {
      "text/html": [
       "<table>\n",
       "    <thead>\n",
       "        <tr>\n",
       "            <th>name</th>\n",
       "            <th>position</th>\n",
       "            <th>salary</th>\n",
       "        </tr>\n",
       "    </thead>\n",
       "    <tbody>\n",
       "        <tr>\n",
       "            <td>Emily Davis</td>\n",
       "            <td>Developer</td>\n",
       "            <td>5500</td>\n",
       "        </tr>\n",
       "    </tbody>\n",
       "</table>"
      ],
      "text/plain": [
       "[('Emily Davis', 'Developer', 5500)]"
      ]
     },
     "execution_count": 24,
     "metadata": {},
     "output_type": "execute_result"
    }
   ],
   "source": [
    "%%sql\n",
    "CREATE TABLE Employees_sal (\n",
    "  id INT PRIMARY KEY,\n",
    "  name VARCHAR(50),\n",
    "  position VARCHAR(50),\n",
    "  salary DECIMAL(10,2)\n",
    ");\n",
    "\n",
    "\n",
    "INSERT INTO Employees_sal (id, name, position, salary) VALUES\n",
    "(1, 'John Doe', 'Manager', 5000.00),\n",
    "(2, 'Jane Smith', 'Engineer', 4000.00),\n",
    "(3, 'Robert Johnson', 'Analyst', 4500.00),\n",
    "(4, 'Emily Davis', 'Developer', 5500.00),\n",
    "(5, 'Michael Wilson', 'Designer', 4200.00);\n",
    "\n",
    "\n",
    "\n",
    "SELECT name, position, salary\n",
    "FROM Employees_sal\n",
    "WHERE salary = (SELECT MAX(salary) FROM Employees_sal);\n"
   ]
  },
  {
   "cell_type": "code",
   "execution_count": 25,
   "metadata": {},
   "outputs": [
    {
     "name": "stdout",
     "output_type": "stream",
     "text": [
      " * sqlite://\n",
      "Done.\n",
      "5 rows affected.\n",
      "Done.\n"
     ]
    },
    {
     "data": {
      "text/html": [
       "<table>\n",
       "    <thead>\n",
       "        <tr>\n",
       "            <th>id</th>\n",
       "            <th>name</th>\n",
       "            <th>phone</th>\n",
       "            <th>email</th>\n",
       "        </tr>\n",
       "    </thead>\n",
       "    <tbody>\n",
       "        <tr>\n",
       "            <td>5</td>\n",
       "            <td>Michael Wilson</td>\n",
       "            <td>+1-567-890-1234</td>\n",
       "            <td>michael.wilson@example.com</td>\n",
       "        </tr>\n",
       "    </tbody>\n",
       "</table>"
      ],
      "text/plain": [
       "[(5, 'Michael Wilson', '+1-567-890-1234', 'michael.wilson@example.com')]"
      ]
     },
     "execution_count": 25,
     "metadata": {},
     "output_type": "execute_result"
    }
   ],
   "source": [
    "%%sql\n",
    "CREATE TABLE Customers_phone (\n",
    "  id INT PRIMARY KEY,\n",
    "  name VARCHAR(50),\n",
    "  phone VARCHAR(15),\n",
    "  email VARCHAR(100)\n",
    ");\n",
    "\n",
    "INSERT INTO Customers_phone (id, name, phone, email) VALUES\n",
    "(1, 'John Doe', '+1-123-456-7890', 'john.doe@example.com'),\n",
    "(2, 'Jane Smith', '+1-234-567-8901', 'jane.smith@example.com'),\n",
    "(3, 'Robert Johnson', '+1-345-678-9012', 'robert.johnson@example.com'),\n",
    "(4, 'Emily Davis', '+1-456-789-0123', 'emily.davis@example.com'),\n",
    "(5, 'Michael Wilson', '+1-567-890-1234', 'michael.wilson@example.com');\n",
    "\n",
    "\n",
    "\n",
    "SELECT * FROM Customers_phone WHERE phone LIKE '+1-567-890-1234';\n"
   ]
  },
  {
   "cell_type": "code",
   "execution_count": 26,
   "metadata": {},
   "outputs": [
    {
     "name": "stdout",
     "output_type": "stream",
     "text": [
      " * sqlite://\n",
      "Done.\n",
      "10 rows affected.\n",
      "Done.\n"
     ]
    },
    {
     "data": {
      "text/html": [
       "<table>\n",
       "    <thead>\n",
       "        <tr>\n",
       "            <th>customer_name</th>\n",
       "            <th>total_purchase_amount</th>\n",
       "        </tr>\n",
       "    </thead>\n",
       "    <tbody>\n",
       "        <tr>\n",
       "            <td>Daniel Taylor</td>\n",
       "            <td>450.3</td>\n",
       "        </tr>\n",
       "        <tr>\n",
       "            <td>Michael Wilson</td>\n",
       "            <td>350.6</td>\n",
       "        </tr>\n",
       "        <tr>\n",
       "            <td>Olivia Clark</td>\n",
       "            <td>300.25</td>\n",
       "        </tr>\n",
       "        <tr>\n",
       "            <td>Sarah Thompson</td>\n",
       "            <td>250.1</td>\n",
       "        </tr>\n",
       "        <tr>\n",
       "            <td>Jessica Lee</td>\n",
       "            <td>210.75</td>\n",
       "        </tr>\n",
       "    </tbody>\n",
       "</table>"
      ],
      "text/plain": [
       "[('Daniel Taylor', 450.3),\n",
       " ('Michael Wilson', 350.6),\n",
       " ('Olivia Clark', 300.25),\n",
       " ('Sarah Thompson', 250.1),\n",
       " ('Jessica Lee', 210.75)]"
      ]
     },
     "execution_count": 26,
     "metadata": {},
     "output_type": "execute_result"
    }
   ],
   "source": [
    "%%sql\n",
    "CREATE TABLE Orders (\n",
    "  id INT PRIMARY KEY,\n",
    "  customer_name VARCHAR(50),\n",
    "  purchase_amount DECIMAL(10, 2)\n",
    ");\n",
    "\n",
    "\n",
    "INSERT INTO Orders (id, customer_name, purchase_amount) VALUES\n",
    "(1, 'John Doe', 100.50),\n",
    "(2, 'Jane Smith', 75.20),\n",
    "(3, 'Robert Johnson', 200.80),\n",
    "(4, 'Emily Davis', 150.40),\n",
    "(5, 'Michael Wilson', 350.60),\n",
    "(6, 'Sarah Thompson', 250.10),\n",
    "(7, 'David Brown', 180.90),\n",
    "(8, 'Jessica Lee', 210.75),\n",
    "(9, 'Daniel Taylor', 450.30),\n",
    "(10, 'Olivia Clark', 300.25);\n",
    "\n",
    "\n",
    "SELECT customer_name, SUM(purchase_amount) AS total_purchase_amount\n",
    "FROM Orders\n",
    "GROUP BY customer_name\n",
    "ORDER BY total_purchase_amount DESC\n",
    "LIMIT 5;\n"
   ]
  },
  {
   "cell_type": "code",
   "execution_count": 27,
   "metadata": {},
   "outputs": [
    {
     "name": "stdout",
     "output_type": "stream",
     "text": [
      " * sqlite://\n",
      "Done.\n",
      "5 rows affected.\n",
      "Done.\n"
     ]
    },
    {
     "data": {
      "text/html": [
       "<table>\n",
       "    <thead>\n",
       "        <tr>\n",
       "            <th>category</th>\n",
       "            <th>total_sales</th>\n",
       "            <th>sales_percentage</th>\n",
       "        </tr>\n",
       "    </thead>\n",
       "    <tbody>\n",
       "        <tr>\n",
       "            <td>Category 1</td>\n",
       "            <td>250</td>\n",
       "            <td>0</td>\n",
       "        </tr>\n",
       "        <tr>\n",
       "            <td>Category 2</td>\n",
       "            <td>275</td>\n",
       "            <td>0</td>\n",
       "        </tr>\n",
       "        <tr>\n",
       "            <td>Category 3</td>\n",
       "            <td>300</td>\n",
       "            <td>0</td>\n",
       "        </tr>\n",
       "    </tbody>\n",
       "</table>"
      ],
      "text/plain": [
       "[('Category 1', 250, 0), ('Category 2', 275, 0), ('Category 3', 300, 0)]"
      ]
     },
     "execution_count": 27,
     "metadata": {},
     "output_type": "execute_result"
    }
   ],
   "source": [
    "%%sql\n",
    "CREATE TABLE Sales (\n",
    "  id INT PRIMARY KEY,\n",
    "  product_name VARCHAR(50),\n",
    "  category VARCHAR(50),\n",
    "  sales_amount DECIMAL(10, 2)\n",
    ");\n",
    "\n",
    "\n",
    "INSERT INTO Sales (id, product_name, category, sales_amount) VALUES\n",
    "(1, 'Product A', 'Category 1', 100.00),\n",
    "(2, 'Product B', 'Category 1', 150.00),\n",
    "(3, 'Product C', 'Category 2', 200.00),\n",
    "(4, 'Product D', 'Category 2', 75.00),\n",
    "(5, 'Product E', 'Category 3', 300.00);\n",
    "\n",
    "\n",
    "SELECT category, SUM(sales_amount) AS total_sales,\n",
    "       (SUM(sales_amount) / (SELECT SUM(sales_amount) FROM Sales)) * 100 AS sales_percentage\n",
    "FROM Sales\n",
    "GROUP BY category;\n"
   ]
  },
  {
   "cell_type": "code",
   "execution_count": 28,
   "metadata": {},
   "outputs": [
    {
     "name": "stdout",
     "output_type": "stream",
     "text": [
      " * sqlite://\n",
      "Done.\n",
      "6 rows affected.\n",
      "Done.\n"
     ]
    },
    {
     "data": {
      "text/html": [
       "<table>\n",
       "    <thead>\n",
       "        <tr>\n",
       "            <th>name</th>\n",
       "            <th>email</th>\n",
       "            <th>total_purchase_amount</th>\n",
       "        </tr>\n",
       "    </thead>\n",
       "    <tbody>\n",
       "        <tr>\n",
       "            <td>Robert Johnson</td>\n",
       "            <td>robert.johnson@example.com</td>\n",
       "            <td>500</td>\n",
       "        </tr>\n",
       "    </tbody>\n",
       "</table>"
      ],
      "text/plain": [
       "[('Robert Johnson', 'robert.johnson@example.com', 500)]"
      ]
     },
     "execution_count": 28,
     "metadata": {},
     "output_type": "execute_result"
    }
   ],
   "source": [
    "%%sql\n",
    "CREATE TABLE Orders1 (\n",
    "  id INT PRIMARY KEY,\n",
    "  customer_id INT,\n",
    "  purchase_year INT,\n",
    "  purchase_amount DECIMAL(10, 2)\n",
    ");\n",
    "\n",
    "\n",
    "INSERT INTO Orders1 (id, customer_id, purchase_year, purchase_amount) VALUES\n",
    "(1, 1, 2019, 100.00),\n",
    "(2, 1, 2020, 150.00),\n",
    "(3, 2, 2019, 200.00),\n",
    "(4, 2, 2020, 50.00),\n",
    "(5, 3, 2019, 300.00),\n",
    "(6, 3, 2020, 200.00);\n",
    "\n",
    "\n",
    "\n",
    "SELECT \n",
    "  c.name, \n",
    "  c.email, \n",
    "  SUM(o.purchase_amount) AS total_purchase_amount\n",
    "FROM \n",
    "  Customers c\n",
    "JOIN \n",
    "  Orders1 o ON c.id = o.customer_id\n",
    "GROUP BY \n",
    "  c.id, c.name, c.email\n",
    "HAVING \n",
    "  SUM(o.purchase_amount) = (\n",
    "    SELECT \n",
    "      MAX(total_purchases)\n",
    "    FROM \n",
    "      (SELECT \n",
    "        customer_id, SUM(purchase_amount) AS total_purchases\n",
    "      FROM \n",
    "        Orders1\n",
    "      GROUP BY \n",
    "        customer_id) AS subquery\n",
    "  );\n"
   ]
  }
 ],
 "metadata": {
  "kernelspec": {
   "display_name": "Python 3",
   "language": "python",
   "name": "python3"
  },
  "language_info": {
   "codemirror_mode": {
    "name": "ipython",
    "version": 3
   },
   "file_extension": ".py",
   "mimetype": "text/x-python",
   "name": "python",
   "nbconvert_exporter": "python",
   "pygments_lexer": "ipython3",
   "version": "3.10.11"
  },
  "orig_nbformat": 4
 },
 "nbformat": 4,
 "nbformat_minor": 2
}
