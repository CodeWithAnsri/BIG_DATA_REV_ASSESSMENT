{
 "cells": [
  {
   "cell_type": "code",
   "execution_count": 11,
   "metadata": {},
   "outputs": [
    {
     "name": "stdout",
     "output_type": "stream",
     "text": [
      "The strings are anagrams.\n"
     ]
    }
   ],
   "source": [
    "#1. Write a Python program to check if a given string is an anagram.\n",
    "\n",
    "def is_anagram(str1, str2):\n",
    "    # Removing whitespace and converting to lowercase\n",
    "    str1 = str1.replace(\" \", \"\").lower()\n",
    "    str2 = str2.replace(\" \", \"\").lower()\n",
    "\n",
    "    # Checking if the length of both strings is the same\n",
    "    if len(str1) != len(str2):\n",
    "        return False\n",
    "\n",
    "    # Converting strings to lists and sorting them\n",
    "    str1_list = sorted(list(str1))\n",
    "    str2_list = sorted(list(str2))\n",
    "\n",
    "    # Comparing the sorted lists\n",
    "    if str1_list == str2_list:\n",
    "        return True\n",
    "    else:\n",
    "        return False\n",
    "\n",
    "# Example usage\n",
    "string1 = \"listen\"\n",
    "string2 = \"silent\"\n",
    "#call function\n",
    "if is_anagram(string1, string2):\n",
    "    print(\"The strings are anagrams.\")\n",
    "else:\n",
    "    print(\"The strings are not anagrams.\")\n"
   ]
  },
  {
   "cell_type": "code",
   "execution_count": 12,
   "metadata": {},
   "outputs": [
    {
     "name": "stdout",
     "output_type": "stream",
     "text": [
      "Maximum value: 20\n",
      "Minimum value: 5\n"
     ]
    }
   ],
   "source": [
    "\n",
    "#2. Write a Python program to find the maximum and minimum values in Dictionary\n",
    "\n",
    "def find_max_min(dictionary):\n",
    "    values = list(dictionary.values())\n",
    "    max_value = max(values)\n",
    "    min_value = min(values)\n",
    "    return max_value, min_value\n",
    "\n",
    "# Example usage\n",
    "my_dict = {'a': 10, 'b': 5, 'c': 15, 'd': 20}\n",
    "\n",
    "#call function\n",
    "max_val, min_val = find_max_min(my_dict)\n",
    "\n",
    "print(\"Maximum value:\", max_val)\n",
    "print(\"Minimum value:\", min_val)\n"
   ]
  },
  {
   "cell_type": "code",
   "execution_count": 13,
   "metadata": {},
   "outputs": [
    {
     "name": "stdout",
     "output_type": "stream",
     "text": [
      "Average: 12.5\n"
     ]
    }
   ],
   "source": [
    "#3. Write a Python program to find the average of a list of numbers.\n",
    "\n",
    "def calculate_average(numbers):\n",
    "    total = sum(numbers)\n",
    "    count = len(numbers)\n",
    "    average = total / count\n",
    "    return average\n",
    "\n",
    "# Example usage\n",
    "my_list = [5, 10, 15, 20]\n",
    "#call function\n",
    "avg = calculate_average(my_list)\n",
    "\n",
    "print(\"Average:\", avg)\n"
   ]
  },
  {
   "cell_type": "code",
   "execution_count": 14,
   "metadata": {},
   "outputs": [
    {
     "name": "stdout",
     "output_type": "stream",
     "text": [
      "Original string: Hello, World!\n",
      "String without vowels: Hll, Wrld!\n"
     ]
    }
   ],
   "source": [
    "#4. Write a Python program to remove all vowels from a string.\n",
    "\n",
    "#function remove vowels _\n",
    "def remove_vowels(string):\n",
    "    vowels = \"aeiouAEIOU\"\n",
    "    new_string = \"\"\n",
    "    for char in string:\n",
    "        if char not in vowels:\n",
    "            new_string += char\n",
    "    return new_string\n",
    "\n",
    "# using string \n",
    "my_string = \"Hello, World!\"\n",
    "\n",
    "#call function\n",
    "result = remove_vowels(my_string)\n",
    "\n",
    "print(\"Original string:\", my_string)\n",
    "print(\"String without vowels:\", result)\n"
   ]
  },
  {
   "cell_type": "code",
   "execution_count": 15,
   "metadata": {},
   "outputs": [
    {
     "name": "stdout",
     "output_type": "stream",
     "text": [
      "Factorial of 5 is 120\n"
     ]
    }
   ],
   "source": [
    "#5. Write a Python function to calculate the factorial of a number using recursion.\n",
    "\n",
    "def factorial(n):\n",
    "    if n == 0:\n",
    "        return 1\n",
    "    else:\n",
    "        return n * factorial(n - 1)\n",
    "\n",
    "# Example usage\n",
    "number = 5\n",
    "#call function\n",
    "result = factorial(number)\n",
    "\n",
    "print(\"Factorial of\", number, \"is\", result)\n"
   ]
  },
  {
   "cell_type": "code",
   "execution_count": 16,
   "metadata": {},
   "outputs": [
    {
     "name": "stdout",
     "output_type": "stream",
     "text": [
      "Merged and sorted list: [1, 2, 3, 4, 5, 6, 7, 8, 9, 12]\n"
     ]
    }
   ],
   "source": [
    "# 6. Write a Python program to merge two unsorted lists into a single sorted using the merge sort algorithm.\n",
    "\n",
    "def merge_sort_merge(left, right):\n",
    "    merged = []\n",
    "    i = j = 0\n",
    "\n",
    "    while i < len(left) and j < len(right):\n",
    "        if left[i] <= right[j]:\n",
    "            merged.append(left[i])\n",
    "            i += 1\n",
    "        else:\n",
    "            merged.append(right[j])\n",
    "            j += 1\n",
    "\n",
    "    while i < len(left):\n",
    "        merged.append(left[i])\n",
    "        i += 1\n",
    "\n",
    "    while j < len(right):\n",
    "        merged.append(right[j])\n",
    "        j += 1\n",
    "\n",
    "    return merged\n",
    "\n",
    "\n",
    "def merge_sort(lst):\n",
    "    if len(lst) <= 1:\n",
    "        return lst\n",
    "\n",
    "    mid = len(lst) // 2\n",
    "    left = lst[:mid]\n",
    "    right = lst[mid:]\n",
    "\n",
    "    left = merge_sort(left)\n",
    "    right = merge_sort(right)\n",
    "\n",
    "    return merge_sort_merge(left, right)\n",
    "\n",
    "\n",
    "# Example usage\n",
    "list1 = [5, 2, 8, 12, 3]\n",
    "list2 = [7, 1, 9, 4, 6]\n",
    "merged_list = merge_sort(list1 + list2)\n",
    "\n",
    "print(\"Merged and sorted list:\", merged_list)\n",
    "\n",
    "\n",
    "\n"
   ]
  },
  {
   "cell_type": "code",
   "execution_count": 17,
   "metadata": {},
   "outputs": [
    {
     "name": "stdout",
     "output_type": "stream",
     "text": [
      "GCD of 24 and 36 is 12\n"
     ]
    }
   ],
   "source": [
    "#7. Write a Python program to find the GCD (Greatest Common Divisor) of twonumbers.//\n",
    "\n",
    "def gcd(a, b):\n",
    "    while b != 0:\n",
    "        a, b = b, a % b\n",
    "    return a\n",
    "\n",
    "# Example usage\n",
    "num1 = 24\n",
    "num2 = 36\n",
    "result = gcd(num1, num2)\n",
    "\n",
    "print(\"GCD of\", num1, \"and\", num2, \"is\", result)\n"
   ]
  },
  {
   "cell_type": "code",
   "execution_count": 18,
   "metadata": {},
   "outputs": [
    {
     "name": "stdout",
     "output_type": "stream",
     "text": [
      "The second-largest element is: 10\n"
     ]
    }
   ],
   "source": [
    "#8. Write a Python program to find the second-largest element in a list.\n",
    "\n",
    "def find_second_largest(lst):\n",
    "    if len(lst) < 2:\n",
    "        return None\n",
    "\n",
    "    largest = second_largest = float('-inf')\n",
    "\n",
    "    for num in lst:\n",
    "        if num > largest:\n",
    "            second_largest = largest\n",
    "            largest = num\n",
    "        elif num > second_largest and num != largest:\n",
    "            second_largest = num\n",
    "\n",
    "    return second_largest\n",
    "\n",
    "# Example usage\n",
    "my_list = [5, 2, 8, 12, 3, 10]\n",
    "result = find_second_largest(my_list)\n",
    "\n",
    "if result is None:\n",
    "    print(\"The list does not have a second-largest element.\")\n",
    "else:\n",
    "    print(\"The second-largest element is:\", result)\n"
   ]
  },
  {
   "cell_type": "code",
   "execution_count": 19,
   "metadata": {},
   "outputs": [
    {
     "name": "stdout",
     "output_type": "stream",
     "text": [
      "Longest Common Subsequence: GTAB\n"
     ]
    }
   ],
   "source": [
    "# 9. Write a Python program to find the longest common subsequence between two strings using dynamic programming.\n",
    "\n",
    "def find_lcs(str1, str2):\n",
    "    m = len(str1)\n",
    "    n = len(str2)\n",
    "\n",
    "    # Creating a table to store the lengths of LCS for subproblems\n",
    "    dp = [[0] * (n + 1) for _ in range(m + 1)]\n",
    "\n",
    "    # Building the table bottom-up\n",
    "    for i in range(1, m + 1):\n",
    "        for j in range(1, n + 1):\n",
    "            if str1[i - 1] == str2[j - 1]:\n",
    "                dp[i][j] = dp[i - 1][j - 1] + 1\n",
    "            else:\n",
    "                dp[i][j] = max(dp[i - 1][j], dp[i][j - 1])\n",
    "\n",
    "    # Finding the LCS from the table\n",
    "    lcs = \"\"\n",
    "    i = m\n",
    "    j = n\n",
    "    while i > 0 and j > 0:\n",
    "        if str1[i - 1] == str2[j - 1]:\n",
    "            lcs = str1[i - 1] + lcs\n",
    "            i -= 1\n",
    "            j -= 1\n",
    "        elif dp[i - 1][j] > dp[i][j - 1]:\n",
    "            i -= 1\n",
    "        else:\n",
    "            j -= 1\n",
    "\n",
    "    return lcs\n",
    "\n",
    "# Example usage\n",
    "string1 = \"AGGTAB\"\n",
    "string2 = \"GXTXAYB\"\n",
    "lcs = find_lcs(string1, string2)\n",
    "\n",
    "print(\"Longest Common Subsequence:\", lcs)\n",
    "\n"
   ]
  }
 ],
 "metadata": {
  "kernelspec": {
   "display_name": "Python 3",
   "language": "python",
   "name": "python3"
  },
  "language_info": {
   "codemirror_mode": {
    "name": "ipython",
    "version": 3
   },
   "file_extension": ".py",
   "mimetype": "text/x-python",
   "name": "python",
   "nbconvert_exporter": "python",
   "pygments_lexer": "ipython3",
   "version": "3.10.11"
  },
  "orig_nbformat": 4
 },
 "nbformat": 4,
 "nbformat_minor": 2
}
