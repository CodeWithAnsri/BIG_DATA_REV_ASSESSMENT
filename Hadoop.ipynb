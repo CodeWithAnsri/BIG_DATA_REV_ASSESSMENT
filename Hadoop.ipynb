{
 "cells": [
  {
   "cell_type": "code",
   "execution_count": 6,
   "metadata": {},
   "outputs": [
    {
     "name": "stdout",
     "output_type": "stream",
     "text": [
      "Note: you may need to restart the kernel to use updated packages.\n",
      "Collecting pyhive\n",
      "  Downloading PyHive-0.6.5.tar.gz (44 kB)\n",
      "     ---------------------------------------- 0.0/44.8 kB ? eta -:--:--\n",
      "     ------------------------------------ --- 41.0/44.8 kB 1.9 MB/s eta 0:00:01\n",
      "     -------------------------------------- 44.8/44.8 kB 557.3 kB/s eta 0:00:00\n",
      "  Preparing metadata (setup.py): started\n",
      "  Preparing metadata (setup.py): finished with status 'done'\n",
      "Collecting future\n",
      "  Downloading future-0.18.3.tar.gz (840 kB)\n",
      "     ---------------------------------------- 0.0/840.9 kB ? eta -:--:--\n",
      "     --- ----------------------------------- 81.9/840.9 kB 2.3 MB/s eta 0:00:01\n",
      "     ------ ------------------------------- 143.4/840.9 kB 1.7 MB/s eta 0:00:01\n",
      "     ---------- --------------------------- 225.3/840.9 kB 1.7 MB/s eta 0:00:01\n",
      "     ------------------- ------------------ 440.3/840.9 kB 2.5 MB/s eta 0:00:01\n",
      "     ------------------------------ ------- 675.8/840.9 kB 3.0 MB/s eta 0:00:01\n",
      "     ------------------------------------ - 809.0/840.9 kB 3.0 MB/s eta 0:00:01\n",
      "     -------------------------------------  839.7/840.9 kB 2.7 MB/s eta 0:00:01\n",
      "     -------------------------------------- 840.9/840.9 kB 2.5 MB/s eta 0:00:00\n",
      "  Preparing metadata (setup.py): started\n",
      "  Preparing metadata (setup.py): finished with status 'done'\n",
      "Requirement already satisfied: python-dateutil in c:\\users\\md\\appdata\\local\\packages\\pythonsoftwarefoundation.python.3.10_qbz5n2kfra8p0\\localcache\\local-packages\\python310\\site-packages (from pyhive) (2.8.2)\n",
      "Requirement already satisfied: six>=1.5 in c:\\users\\md\\appdata\\local\\packages\\pythonsoftwarefoundation.python.3.10_qbz5n2kfra8p0\\localcache\\local-packages\\python310\\site-packages (from python-dateutil->pyhive) (1.16.0)\n",
      "Installing collected packages: future, pyhive\n",
      "  Running setup.py install for future: started\n",
      "  Running setup.py install for future: finished with status 'done'\n",
      "  Running setup.py install for pyhive: started\n",
      "  Running setup.py install for pyhive: finished with status 'done'\n",
      "Successfully installed future-0.18.3 pyhive-0.6.5\n"
     ]
    },
    {
     "name": "stderr",
     "output_type": "stream",
     "text": [
      "  DEPRECATION: future is being installed using the legacy 'setup.py install' method, because it does not have a 'pyproject.toml' and the 'wheel' package is not installed. pip 23.1 will enforce this behaviour change. A possible replacement is to enable the '--use-pep517' option. Discussion can be found at https://github.com/pypa/pip/issues/8559\n",
      "  DEPRECATION: pyhive is being installed using the legacy 'setup.py install' method, because it does not have a 'pyproject.toml' and the 'wheel' package is not installed. pip 23.1 will enforce this behaviour change. A possible replacement is to enable the '--use-pep517' option. Discussion can be found at https://github.com/pypa/pip/issues/8559\n",
      "\n",
      "[notice] A new release of pip is available: 23.0.1 -> 23.1.2\n",
      "[notice] To update, run: C:\\Users\\MD\\AppData\\Local\\Microsoft\\WindowsApps\\PythonSoftwareFoundation.Python.3.10_qbz5n2kfra8p0\\python.exe -m pip install --upgrade pip\n"
     ]
    }
   ],
   "source": [
    "pip install pyhive\n"
   ]
  }
 ],
 "metadata": {
  "kernelspec": {
   "display_name": "Python 3",
   "language": "python",
   "name": "python3"
  },
  "language_info": {
   "codemirror_mode": {
    "name": "ipython",
    "version": 3
   },
   "file_extension": ".py",
   "mimetype": "text/x-python",
   "name": "python",
   "nbconvert_exporter": "python",
   "pygments_lexer": "ipython3",
   "version": "3.10.11"
  },
  "orig_nbformat": 4
 },
 "nbformat": 4,
 "nbformat_minor": 2
}
